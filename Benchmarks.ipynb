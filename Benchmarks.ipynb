{
 "cells": [
  {
   "cell_type": "code",
   "execution_count": 1,
   "metadata": {},
   "outputs": [],
   "source": [
    "%matplotlib inline\n",
    "import os\n",
    "import sqlite3\n",
    "\n",
    "import numpy as np\n",
    "\n",
    "from permadict import Permadict"
   ]
  },
  {
   "cell_type": "code",
   "execution_count": 2,
   "metadata": {},
   "outputs": [],
   "source": [
    "array_size = 1000"
   ]
  },
  {
   "cell_type": "markdown",
   "metadata": {},
   "source": [
    "## Writing"
   ]
  },
  {
   "cell_type": "code",
   "execution_count": 3,
   "metadata": {},
   "outputs": [],
   "source": [
    "def write_array(size: int, remove_first: bool = False):\n",
    "    if os.path.exists(\"test.sqlite\") and remove_first:\n",
    "        os.remove(\"test.sqlite\")\n",
    "        \n",
    "    with Permadict(\"test.sqlite\") as db:\n",
    "        db[\"array\"] = np.random.random((size, size))"
   ]
  },
  {
   "cell_type": "code",
   "execution_count": 4,
   "metadata": {},
   "outputs": [
    {
     "name": "stdout",
     "output_type": "stream",
     "text": [
      "The slowest run took 5.24 times longer than the fastest. This could mean that an intermediate result is being cached.\n",
      "1 loop, best of 3: 85.2 ms per loop\n"
     ]
    }
   ],
   "source": [
    "%timeit write_array(array_size)"
   ]
  },
  {
   "cell_type": "code",
   "execution_count": 5,
   "metadata": {},
   "outputs": [
    {
     "name": "stdout",
     "output_type": "stream",
     "text": [
      "1 loop, best of 3: 258 ms per loop\n"
     ]
    }
   ],
   "source": [
    "%timeit write_array(array_size, True)"
   ]
  },
  {
   "cell_type": "markdown",
   "metadata": {},
   "source": [
    "## Reading"
   ]
  },
  {
   "cell_type": "code",
   "execution_count": 6,
   "metadata": {},
   "outputs": [],
   "source": [
    "def read_array():\n",
    "    with Permadict(\"test.sqlite\") as db:\n",
    "        return db[\"array\"]"
   ]
  },
  {
   "cell_type": "code",
   "execution_count": 7,
   "metadata": {},
   "outputs": [
    {
     "name": "stdout",
     "output_type": "stream",
     "text": [
      "10 loops, best of 3: 17.7 ms per loop\n"
     ]
    }
   ],
   "source": [
    "%timeit read_array()"
   ]
  },
  {
   "cell_type": "markdown",
   "metadata": {},
   "source": [
    "## Direct blob writing"
   ]
  },
  {
   "cell_type": "code",
   "execution_count": 8,
   "metadata": {},
   "outputs": [
    {
     "name": "stdout",
     "output_type": "stream",
     "text": [
      "1 loop, best of 3: 342 ms per loop\n"
     ]
    }
   ],
   "source": [
    "%%timeit\n",
    "with sqlite3.connect(\"test.sqlite\") as conn:\n",
    "    conn.execute(\"insert or replace into dict values (?, ?)\", (\"test\", np.random.random((array_size, array_size))))"
   ]
  },
  {
   "cell_type": "markdown",
   "metadata": {},
   "source": [
    "## Comparison with smaller chunks of data"
   ]
  },
  {
   "cell_type": "code",
   "execution_count": 10,
   "metadata": {},
   "outputs": [
    {
     "name": "stdout",
     "output_type": "stream",
     "text": [
      "The slowest run took 69.95 times longer than the fastest. This could mean that an intermediate result is being cached.\n",
      "1000 loops, best of 3: 1.21 ms per loop\n"
     ]
    }
   ],
   "source": [
    "%%timeit\n",
    "with Permadict(\"test.sqlite\") as db:\n",
    "    db[\"list\"] = [1, 2, 3, 4, 5]"
   ]
  },
  {
   "cell_type": "code",
   "execution_count": 11,
   "metadata": {},
   "outputs": [
    {
     "name": "stdout",
     "output_type": "stream",
     "text": [
      "The slowest run took 27.89 times longer than the fastest. This could mean that an intermediate result is being cached.\n",
      "10 loops, best of 3: 801 µs per loop\n"
     ]
    }
   ],
   "source": [
    "%%timeit\n",
    "with Permadict(\"test.sqlite\") as db:\n",
    "    l = db[\"list\"]"
   ]
  },
  {
   "cell_type": "code",
   "execution_count": 12,
   "metadata": {},
   "outputs": [
    {
     "name": "stdout",
     "output_type": "stream",
     "text": [
      "The slowest run took 25.04 times longer than the fastest. This could mean that an intermediate result is being cached.\n",
      "10 loops, best of 3: 812 µs per loop\n"
     ]
    }
   ],
   "source": [
    "%%timeit\n",
    "with Permadict(\"test.sqlite\") as db:\n",
    "    db[\"string\"] = \"a string\""
   ]
  },
  {
   "cell_type": "code",
   "execution_count": 15,
   "metadata": {},
   "outputs": [
    {
     "name": "stdout",
     "output_type": "stream",
     "text": [
      "The slowest run took 32.19 times longer than the fastest. This could mean that an intermediate result is being cached.\n",
      "1000 loops, best of 3: 1.08 ms per loop\n"
     ]
    }
   ],
   "source": [
    "%%timeit\n",
    "with Permadict(\"test.sqlite\") as db:\n",
    "    s = db[\"string\"]"
   ]
  }
 ],
 "metadata": {
  "kernelspec": {
   "display_name": "Python [default]",
   "language": "python",
   "name": "python3"
  },
  "language_info": {
   "codemirror_mode": {
    "name": "ipython",
    "version": 3
   },
   "file_extension": ".py",
   "mimetype": "text/x-python",
   "name": "python",
   "nbconvert_exporter": "python",
   "pygments_lexer": "ipython3",
   "version": "3.6.4"
  }
 },
 "nbformat": 4,
 "nbformat_minor": 2
}
